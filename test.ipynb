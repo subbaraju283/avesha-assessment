{
 "cells": [
  {
   "cell_type": "code",
   "execution_count": 1,
   "metadata": {},
   "outputs": [],
   "source": [
    "from langchain_core.documents import Document\n",
    "\n",
    "text = \"\"\"\n",
    "Marie Curie, 7 November 1867 – 4 July 1934, was a Polish and naturalised-French physicist and chemist who conducted pioneering research on radioactivity.\n",
    "She was the first woman to win a Nobel Prize, the first person to win a Nobel Prize twice, and the only person to win a Nobel Prize in two scientific fields.\n",
    "Her husband, Pierre Curie, was a co-winner of her first Nobel Prize, making them the first-ever married couple to win the Nobel Prize and launching the Curie family legacy of five Nobel Prizes.\n",
    "She was, in 1906, the first woman to become a professor at the University of Paris.\n",
    "Also, Robin Williams.\n",
    "\"\"\"\n",
    "documents = [Document(page_content=text)]\n"
   ]
  },
  {
   "cell_type": "code",
   "execution_count": 2,
   "metadata": {},
   "outputs": [],
   "source": [
    "from langchain_openai import ChatOpenAI\n",
    "import getpass\n",
    "import os\n",
    "\n",
    "llm = ChatOpenAI(model='gpt-4o')\n"
   ]
  },
  {
   "cell_type": "code",
   "execution_count": 3,
   "metadata": {},
   "outputs": [],
   "source": [
    "from langchain_experimental.graph_transformers import LLMGraphTransformer\n",
    "\n",
    "no_schema = LLMGraphTransformer(llm=llm)\n"
   ]
  },
  {
   "cell_type": "code",
   "execution_count": 4,
   "metadata": {},
   "outputs": [],
   "source": [
    "data = await no_schema.aconvert_to_graph_documents(documents)\n"
   ]
  },
  {
   "cell_type": "code",
   "execution_count": 5,
   "metadata": {},
   "outputs": [
    {
     "data": {
      "text/plain": [
       "[GraphDocument(nodes=[Node(id='Marie Curie', type='Person', properties={}), Node(id='Poland', type='Place', properties={}), Node(id='France', type='Place', properties={}), Node(id='Radioactivity', type='Concept', properties={}), Node(id='Nobel Prize', type='Award', properties={}), Node(id='Pierre Curie', type='Person', properties={}), Node(id='Curie Family', type='Group', properties={}), Node(id='University Of Paris', type='Organization', properties={}), Node(id='Robin Williams', type='Person', properties={})], relationships=[Relationship(source=Node(id='Marie Curie', type='Person', properties={}), target=Node(id='Poland', type='Place', properties={}), type='NATIONALITY', properties={}), Relationship(source=Node(id='Marie Curie', type='Person', properties={}), target=Node(id='France', type='Place', properties={}), type='NATIONALITY', properties={}), Relationship(source=Node(id='Marie Curie', type='Person', properties={}), target=Node(id='Radioactivity', type='Concept', properties={}), type='RESEARCH', properties={}), Relationship(source=Node(id='Marie Curie', type='Person', properties={}), target=Node(id='Nobel Prize', type='Award', properties={}), type='WON', properties={}), Relationship(source=Node(id='Marie Curie', type='Person', properties={}), target=Node(id='Pierre Curie', type='Person', properties={}), type='SPOUSE', properties={}), Relationship(source=Node(id='Marie Curie', type='Person', properties={}), target=Node(id='Curie Family', type='Group', properties={}), type='MEMBER', properties={}), Relationship(source=Node(id='Marie Curie', type='Person', properties={}), target=Node(id='University Of Paris', type='Organization', properties={}), type='PROFESSOR', properties={})], source=Document(metadata={}, page_content='\\nMarie Curie, 7 November 1867 – 4 July 1934, was a Polish and naturalised-French physicist and chemist who conducted pioneering research on radioactivity.\\nShe was the first woman to win a Nobel Prize, the first person to win a Nobel Prize twice, and the only person to win a Nobel Prize in two scientific fields.\\nHer husband, Pierre Curie, was a co-winner of her first Nobel Prize, making them the first-ever married couple to win the Nobel Prize and launching the Curie family legacy of five Nobel Prizes.\\nShe was, in 1906, the first woman to become a professor at the University of Paris.\\nAlso, Robin Williams.\\n'))]"
      ]
     },
     "execution_count": 5,
     "metadata": {},
     "output_type": "execute_result"
    }
   ],
   "source": [
    "data"
   ]
  },
  {
   "cell_type": "code",
   "execution_count": 6,
   "metadata": {},
   "outputs": [
    {
     "name": "stdout",
     "output_type": "stream",
     "text": [
      "Collecting neo4j-graphrag\n",
      "  Downloading neo4j_graphrag-1.9.0-py3-none-any.whl.metadata (18 kB)\n",
      "Collecting fsspec<2025.0.0,>=2024.9.0 (from neo4j-graphrag)\n",
      "  Using cached fsspec-2024.12.0-py3-none-any.whl.metadata (11 kB)\n",
      "Collecting json-repair<0.45.0,>=0.44.1 (from neo4j-graphrag)\n",
      "  Downloading json_repair-0.44.1-py3-none-any.whl.metadata (12 kB)\n",
      "Collecting neo4j<6.0.0,>=5.17.0 (from neo4j-graphrag)\n",
      "  Downloading neo4j-5.28.2-py3-none-any.whl.metadata (5.9 kB)\n",
      "Collecting numpy<3.0.0,>=2.0.0 (from neo4j-graphrag)\n",
      "  Using cached numpy-2.3.2-cp312-cp312-macosx_14_0_arm64.whl.metadata (62 kB)\n",
      "Requirement already satisfied: pydantic<3.0.0,>=2.6.3 in /opt/anaconda3/envs/avesha-v2/lib/python3.12/site-packages (from neo4j-graphrag) (2.11.7)\n",
      "Collecting pypdf<6.0.0,>=5.1.0 (from neo4j-graphrag)\n",
      "  Downloading pypdf-5.9.0-py3-none-any.whl.metadata (7.1 kB)\n",
      "Collecting pyyaml<7.0.0,>=6.0.2 (from neo4j-graphrag)\n",
      "  Using cached PyYAML-6.0.2-cp312-cp312-macosx_11_0_arm64.whl.metadata (2.1 kB)\n",
      "Requirement already satisfied: scipy<2.0.0,>=1.13.0 in /opt/anaconda3/envs/avesha-v2/lib/python3.12/site-packages (from neo4j-graphrag) (1.16.1)\n",
      "Collecting tenacity<10.0.0,>=9.1.2 (from neo4j-graphrag)\n",
      "  Using cached tenacity-9.1.2-py3-none-any.whl.metadata (1.2 kB)\n",
      "Collecting types-pyyaml<7.0.0.0,>=6.0.12.20240917 (from neo4j-graphrag)\n",
      "  Downloading types_pyyaml-6.0.12.20250516-py3-none-any.whl.metadata (1.8 kB)\n",
      "Requirement already satisfied: pytz in /opt/anaconda3/envs/avesha-v2/lib/python3.12/site-packages (from neo4j<6.0.0,>=5.17.0->neo4j-graphrag) (2025.2)\n",
      "Requirement already satisfied: annotated-types>=0.6.0 in /opt/anaconda3/envs/avesha-v2/lib/python3.12/site-packages (from pydantic<3.0.0,>=2.6.3->neo4j-graphrag) (0.7.0)\n",
      "Requirement already satisfied: pydantic-core==2.33.2 in /opt/anaconda3/envs/avesha-v2/lib/python3.12/site-packages (from pydantic<3.0.0,>=2.6.3->neo4j-graphrag) (2.33.2)\n",
      "Requirement already satisfied: typing-extensions>=4.12.2 in /opt/anaconda3/envs/avesha-v2/lib/python3.12/site-packages (from pydantic<3.0.0,>=2.6.3->neo4j-graphrag) (4.14.1)\n",
      "Requirement already satisfied: typing-inspection>=0.4.0 in /opt/anaconda3/envs/avesha-v2/lib/python3.12/site-packages (from pydantic<3.0.0,>=2.6.3->neo4j-graphrag) (0.4.1)\n",
      "Downloading neo4j_graphrag-1.9.0-py3-none-any.whl (192 kB)\n",
      "Using cached fsspec-2024.12.0-py3-none-any.whl (183 kB)\n",
      "Downloading json_repair-0.44.1-py3-none-any.whl (22 kB)\n",
      "Downloading neo4j-5.28.2-py3-none-any.whl (313 kB)\n",
      "Using cached numpy-2.3.2-cp312-cp312-macosx_14_0_arm64.whl (5.1 MB)\n",
      "Downloading pypdf-5.9.0-py3-none-any.whl (313 kB)\n",
      "Using cached PyYAML-6.0.2-cp312-cp312-macosx_11_0_arm64.whl (173 kB)\n",
      "Using cached tenacity-9.1.2-py3-none-any.whl (28 kB)\n",
      "Downloading types_pyyaml-6.0.12.20250516-py3-none-any.whl (20 kB)\n",
      "Installing collected packages: types-pyyaml, tenacity, pyyaml, pypdf, numpy, neo4j, json-repair, fsspec, neo4j-graphrag\n",
      "\u001b[2K  Attempting uninstall: tenacity\n",
      "\u001b[2K    Found existing installation: tenacity 8.5.0\n",
      "\u001b[2K    Uninstalling tenacity-8.5.0:\n",
      "\u001b[2K      Successfully uninstalled tenacity-8.5.0\n",
      "\u001b[2K  Attempting uninstall: pyyaml\n",
      "\u001b[2K    Found existing installation: PyYAML 6.0.1\n",
      "\u001b[2K    Uninstalling PyYAML-6.0.1:\n",
      "\u001b[2K      Successfully uninstalled PyYAML-6.0.1\n",
      "\u001b[2K  Attempting uninstall: pypdf\n",
      "\u001b[2K    Found existing installation: pypdf 3.17.4\n",
      "\u001b[2K    Uninstalling pypdf-3.17.4:\n",
      "\u001b[2K      Successfully uninstalled pypdf-3.17.4\n",
      "\u001b[2K  Attempting uninstall: numpym╺\u001b[0m\u001b[90m━━━━━━━━━━━━━━━━━━━━━━━━━━\u001b[0m \u001b[32m3/9\u001b[0m [pypdf]\n",
      "\u001b[2K    Found existing installation: numpy 1.26.4━━━━━━━━━━━━━━━━━\u001b[0m \u001b[32m3/9\u001b[0m [pypdf]\n",
      "\u001b[2K    Uninstalling numpy-1.26.4:m\u001b[90m━━━━━━━━━━━━━━━━━━━━━━━━━━\u001b[0m \u001b[32m3/9\u001b[0m [pypdf]\n",
      "\u001b[2K      Successfully uninstalled numpy-1.26.4━━━━━━━━━━━━━━━━━━━\u001b[0m \u001b[32m3/9\u001b[0m [pypdf]\n",
      "\u001b[2K  Attempting uninstall: neo4j\u001b[91m╸\u001b[0m\u001b[90m━━━━━━━━━━━━━━━━━━━━━━\u001b[0m \u001b[32m4/9\u001b[0m [numpy]\n",
      "\u001b[2K    Found existing installation: neo4j 5.15.0━━━━━━━━━━━━━━━━━\u001b[0m \u001b[32m4/9\u001b[0m [numpy]\n",
      "\u001b[2K    Uninstalling neo4j-5.15.0:╸\u001b[0m\u001b[90m━━━━━━━━━━━━━━━━━━━━━━\u001b[0m \u001b[32m4/9\u001b[0m [numpy]\n",
      "\u001b[2K      Successfully uninstalled neo4j-5.15.0━━━━━━━━━━━━━━━━━━━\u001b[0m \u001b[32m4/9\u001b[0m [numpy]\n",
      "\u001b[2K  Attempting uninstall: json-repair[90m╺\u001b[0m\u001b[90m━━━━━━━━━━━━━━━━━\u001b[0m \u001b[32m5/9\u001b[0m [neo4j]\n",
      "\u001b[2K    Found existing installation: json_repair 0.48.0━━━━━━━━━━━\u001b[0m \u001b[32m5/9\u001b[0m [neo4j]\n",
      "\u001b[2K    Uninstalling json_repair-0.48.0:\u001b[0m\u001b[90m━━━━━━━━━━━━━━━━━\u001b[0m \u001b[32m5/9\u001b[0m [neo4j]\n",
      "\u001b[2K      Successfully uninstalled json_repair-0.48.0━━━━━━━━━━━━━\u001b[0m \u001b[32m5/9\u001b[0m [neo4j]\n",
      "\u001b[2K  Attempting uninstall: fsspec\u001b[90m╺\u001b[0m\u001b[90m━━━━━━━━━━━━━━━━━\u001b[0m \u001b[32m5/9\u001b[0m [neo4j]\n",
      "\u001b[2K    Found existing installation: fsspec 2025.7.0━━━━━━━━━━━━━━\u001b[0m \u001b[32m5/9\u001b[0m [neo4j]\n",
      "\u001b[2K    Uninstalling fsspec-2025.7.0:0m╺\u001b[0m\u001b[90m━━━━━━━━━━━━━━━━━\u001b[0m \u001b[32m5/9\u001b[0m [neo4j]\n",
      "\u001b[2K      Successfully uninstalled fsspec-2025.7.0━━━━━━━━━━━━━━━━\u001b[0m \u001b[32m5/9\u001b[0m [neo4j]\n",
      "\u001b[2K   \u001b[90m━━━━━━━━━━━━━━━━━━━━━━━━━━━━━━━━━━━━━━━━\u001b[0m \u001b[32m9/9\u001b[0m [neo4j-graphrag]m [fsspec]\n",
      "\u001b[1A\u001b[2KSuccessfully installed fsspec-2024.12.0 json-repair-0.44.1 neo4j-5.28.2 neo4j-graphrag-1.9.0 numpy-2.3.2 pypdf-5.9.0 pyyaml-6.0.2 tenacity-9.1.2 types-pyyaml-6.0.12.20250516\n"
     ]
    }
   ],
   "source": [
    "!pip install neo4j-graphrag"
   ]
  },
  {
   "cell_type": "code",
   "execution_count": 20,
   "metadata": {},
   "outputs": [
    {
     "name": "stderr",
     "output_type": "stream",
     "text": [
      "Received notification from DBMS server: {severity: WARNING} {code: Neo.ClientNotification.Statement.UnknownLabelWarning} {category: UNRECOGNIZED} {title: The provided label is not in the database.} {description: One of the labels in your query is not available in the database, make sure you didn't misspell it or that the label is available when you run this statement in your application (the missing label name is: __Entity__)} {position: line: 1, column: 15, offset: 14} for query: 'MATCH (entity:__Entity__)  RETURN count(entity) as c'\n",
      "Received notification from DBMS server: {severity: WARNING} {code: Neo.ClientNotification.Statement.UnknownLabelWarning} {category: UNRECOGNIZED} {title: The provided label is not in the database.} {description: One of the labels in your query is not available in the database, make sure you didn't misspell it or that the label is available when you run this statement in your application (the missing label name is: __Entity__)} {position: line: 1, column: 15, offset: 14} for query: 'MATCH (entity:__Entity__)  RETURN count(entity) as c'\n",
      "Received notification from DBMS server: {severity: WARNING} {code: Neo.ClientNotification.Statement.UnknownLabelWarning} {category: UNRECOGNIZED} {title: The provided label is not in the database.} {description: One of the labels in your query is not available in the database, make sure you didn't misspell it or that the label is available when you run this statement in your application (the missing label name is: __Entity__)} {position: line: 1, column: 15, offset: 14} for query: 'MATCH (entity:__Entity__)  RETURN count(entity) as c'\n",
      "Received notification from DBMS server: {severity: WARNING} {code: Neo.ClientNotification.Statement.UnknownLabelWarning} {category: UNRECOGNIZED} {title: The provided label is not in the database.} {description: One of the labels in your query is not available in the database, make sure you didn't misspell it or that the label is available when you run this statement in your application (the missing label name is: __Entity__)} {position: line: 1, column: 15, offset: 14} for query: 'MATCH (entity:__Entity__)  RETURN count(entity) as c'\n",
      "Received notification from DBMS server: {severity: WARNING} {code: Neo.ClientNotification.Statement.UnknownLabelWarning} {category: UNRECOGNIZED} {title: The provided label is not in the database.} {description: One of the labels in your query is not available in the database, make sure you didn't misspell it or that the label is available when you run this statement in your application (the missing label name is: __Entity__)} {position: line: 1, column: 15, offset: 14} for query: 'MATCH (entity:__Entity__)  RETURN count(entity) as c'\n",
      "Received notification from DBMS server: {severity: WARNING} {code: Neo.ClientNotification.Statement.UnknownLabelWarning} {category: UNRECOGNIZED} {title: The provided label is not in the database.} {description: One of the labels in your query is not available in the database, make sure you didn't misspell it or that the label is available when you run this statement in your application (the missing label name is: __Entity__)} {position: line: 1, column: 15, offset: 14} for query: 'MATCH (entity:__Entity__)  RETURN count(entity) as c'\n"
     ]
    }
   ],
   "source": [
    "from neo4j import GraphDatabase\n",
    "from neo4j_graphrag.embeddings.openai import OpenAIEmbeddings\n",
    "from neo4j_graphrag.llm import OpenAILLM\n",
    "from neo4j_graphrag.experimental.pipeline.kg_builder import SimpleKGPipeline\n",
    "from neo4j_graphrag.experimental.components.text_splitters.fixed_size_splitter import FixedSizeSplitter\n",
    "\n",
    "\n",
    "# Initialize Neo4j driver\n",
    "driver = GraphDatabase.driver(\"neo4j://localhost:7687\", auth=(\"neo4j\", \"test1234\"))\n",
    "\n",
    "# Initialize LLM\n",
    "ex_llm = OpenAILLM(\n",
    "    model_name=\"gpt-4o\",\n",
    "    model_params={\n",
    "        \"response_format\": {\"type\": \"json_object\"},\n",
    "        \"temperature\": 0\n",
    "    }\n",
    ")\n",
    "\n",
    "# Initialize embedder\n",
    "embedder = OpenAIEmbeddings()\n",
    "\n",
    "# Define node labels and relation types\n",
    "node_labels = [\n",
    "            \"mission\", \"spacecraft\", \"rover\", \"orbiter\", \"lander\", \"probe\",\n",
    "            \"planet\", \"moon\", \"asteroid\", \"comet\",\n",
    "            \"facility\", \"laboratory\", \"launch_site\", \"research_center\",\n",
    "            \"company\", \"organization\", \"agency\",\n",
    "            \"technology\", \"instrument\", \"system\", \"equipment\",\n",
    "            \"scientist\", \"engineer\", \"researcher\",\n",
    "            \"discovery\", \"finding\", \"observation\"\n",
    "        ]\n",
    "rel_types = [\n",
    "            \"MANAGES\", \"OPERATES\", \"BUILT\", \"LAUNCHED_FROM\", \"STUDIES\",\n",
    "            \"EXPLORES\", \"DISCOVERS\", \"USES_TECHNOLOGY\", \"COLLABORATES_WITH\",\n",
    "            \"LOCATED_AT\", \"PART_OF\", \"DEPENDS_ON\", \"COMMUNICATES_WITH\",\n",
    "            \"TRANSMITS_TO\", \"RECEIVES_FROM\", \"ANALYZES\", \"MEASURES\",\n",
    "            \"OBSERVES\", \"MONITORS\", \"CONTROLS\", \"SUPPORTS\"\n",
    "        ]\n",
    "\n",
    "# Initialize KG pipeline\n",
    "kg_builder_pdf = SimpleKGPipeline(\n",
    "    llm=ex_llm,\n",
    "    driver=driver,\n",
    "    text_splitter=FixedSizeSplitter(chunk_size=500, chunk_overlap=100),\n",
    "    embedder=embedder,\n",
    "    entities=node_labels,\n",
    "    relations=rel_types,\n",
    "    prompt_template=_get_additional_instructions(),\n",
    "    from_pdf=True\n",
    ")\n",
    "\n",
    "# List of PDF files\n",
    "pdf_file_paths = [\n",
    "    'data/pdfs/exoplanet_detection_methods.pdf',\n",
    "    'data/pdfs/hubble_space_telescope.pdf',\n",
    "    'data/pdfs/ion_propulsion_technology.pdf',\n",
    "    'data/pdfs/voyager_program.pdf',\n",
    "    'data/pdfs/nasa_initial_knowledge.pdf',\n",
    "    'data/pdfs/voyager_program.pdf'\n",
    "]\n",
    "\n",
    "# Run KG builder for each PDF\n",
    "for path in pdf_file_paths:\n",
    "    graph_data = await kg_builder_pdf.run_async(file_path=path)\n"
   ]
  },
  {
   "cell_type": "code",
   "execution_count": 19,
   "metadata": {},
   "outputs": [],
   "source": [
    "def _get_additional_instructions() -> str:\n",
    "    \"\"\"Get additional instructions for NASA-specific extraction.\"\"\"\n",
    "    return \"\"\"\n",
    "    You are a NASA space exploration researcher tasked with extracting information from NASA documentation \n",
    "    and structuring it in a property graph to inform further space exploration and research Q&A.\n",
    "\n",
    "    Extract the entities (nodes) and specify their type from the following Input text.\n",
    "    Also extract the relationships between these nodes. The relationship direction goes from the start node to the end node.\n",
    "\n",
    "    Return result as JSON using the following format:\n",
    "    {{\"nodes\": [ {{\"id\": \"0\", \"label\": \"the type of entity\", \"properties\": {{\"name\": \"name of entity\" }} }}],\n",
    "      \"relationships\": [{{\"type\": \"TYPE_OF_RELATIONSHIP\", \"start_node_id\": \"0\", \"end_node_id\": \"1\", \"properties\": {{\"details\": \"Description of the relationship\"}} }}] }}\n",
    "\n",
    "    Do not return any additional information other than the JSON in it.\n",
    "    \"\"\""
   ]
  },
  {
   "cell_type": "code",
   "execution_count": 16,
   "metadata": {},
   "outputs": [],
   "source": [
    "from neo4j_graphrag.indexes import create_vector_index\n",
    "\n",
    "create_vector_index(driver, name=\"text_embeddings\", label=\"Chunk\",\n",
    "                    embedding_property=\"embedding\", dimensions=1536, similarity_fn=\"cosine\")\n"
   ]
  },
  {
   "cell_type": "code",
   "execution_count": 32,
   "metadata": {},
   "outputs": [
    {
     "name": "stdout",
     "output_type": "stream",
     "text": [
      "====\n",
      "{\n",
      "    \"node\": {\n",
      "        \"text\": \"Voyager Program Overview\\nThe Voyager program consists of two robotic probes, Voyager 1 and Voyager 2, \\nlaunched in 1977 to study the outer Solar System and interstellar space. Both \\nspacecraft are still operational and continue to send data back to Earth.\\nVoyager 1 and Voyager 2 were designed to take advantage of a rare planetary \\nalignment that occurs only once every 176 years. This alignment allowed the \\nspacecraft to visit Jupiter, Saturn, Uranus, and Neptune using gravity assists.\\nKey \"\n",
      "    },\n",
      "    \"nodeLabels\": [\n",
      "        \"__KGBuilder__\",\n",
      "        \"Chunk\"\n",
      "    ],\n",
      "    \"elementId\": \"4:ce55c410-1d81-4077-85b0-706b09aff537:26\",\n",
      "    \"id\": \"4:ce55c410-1d81-4077-85b0-706b09aff537:26\",\n",
      "    \"score\": 0.9327101111412048\n",
      "}\n",
      "====\n",
      "{\n",
      "    \"node\": {\n",
      "        \"text\": \"Voyager Program Overview\\nThe Voyager program consists of two robotic probes, Voyager 1 and Voyager 2, \\nlaunched in 1977 to study the outer Solar System and interstellar space. Both \\nspacecraft are still operational and continue to send data back to Earth.\\nVoyager 1 and Voyager 2 were designed to take advantage of a rare planetary \\nalignment that occurs only once every 176 years. This alignment allowed the \\nspacecraft to visit Jupiter, Saturn, Uranus, and Neptune using gravity assists.\\nKey \"\n",
      "    },\n",
      "    \"nodeLabels\": [\n",
      "        \"__KGBuilder__\",\n",
      "        \"Chunk\"\n",
      "    ],\n",
      "    \"elementId\": \"4:ce55c410-1d81-4077-85b0-706b09aff537:62\",\n",
      "    \"id\": \"4:ce55c410-1d81-4077-85b0-706b09aff537:62\",\n",
      "    \"score\": 0.9327101111412048\n",
      "}\n",
      "====\n",
      "{\n",
      "    \"node\": {\n",
      "        \"text\": \"Voyager Program Overview\\nThe Voyager program consists of two robotic probes, Voyager 1 and Voyager 2, \\nlaunched in 1977 to study the outer Solar System and interstellar space. Both \\nspacecraft are still operational and continue to send data back to Earth.\\nVoyager 1 and Voyager 2 were designed to take advantage of a rare planetary \\nalignment that occurs only once every 176 years. This alignment allowed the \\nspacecraft to visit Jupiter, Saturn, Uranus, and Neptune using gravity assists.\\nKey \"\n",
      "    },\n",
      "    \"nodeLabels\": [\n",
      "        \"__KGBuilder__\",\n",
      "        \"Chunk\"\n",
      "    ],\n",
      "    \"elementId\": \"4:ce55c410-1d81-4077-85b0-706b09aff537:19\",\n",
      "    \"id\": \"4:ce55c410-1d81-4077-85b0-706b09aff537:19\",\n",
      "    \"score\": 0.9327101111412048\n",
      "}\n"
     ]
    }
   ],
   "source": [
    "from neo4j_graphrag.retrievers import VectorRetriever\n",
    "\n",
    "vector_retriever = VectorRetriever(\n",
    "    driver,\n",
    "    index_name=\"text_embeddings\",\n",
    "    embedder=embedder,\n",
    "    return_properties=[\"text\"],\n",
    ")\n",
    "\n",
    "\n",
    "import json\n",
    "\n",
    "vector_res = vector_retriever.get_search_results(\n",
    "    query_text=\"When was Voyager 1 launched?\",\n",
    "    top_k=3\n",
    ")\n",
    "\n",
    "for i in vector_res.records:\n",
    "    print(\"====\\n\" + json.dumps(i.data(), indent=4))\n"
   ]
  },
  {
   "cell_type": "code",
   "execution_count": 35,
   "metadata": {},
   "outputs": [],
   "source": [
    "from neo4j_graphrag.retrievers import VectorCypherRetriever\n",
    "\n",
    "graph_retriever = VectorCypherRetriever(\n",
    "    driver,\n",
    "    index_name=\"text_embeddings\",\n",
    "    embedder=embedder,\n",
    "    retrieval_query=\"\"\"\n",
    "        // 1) Go out 2-3 hops in the entity graph and get relationships\n",
    "WITH node AS chunk\n",
    "MATCH (chunk)<-[:FROM_CHUNK]-()-[relList:!FROM_CHUNK]-{1,2}()\n",
    "UNWIND relList AS rel\n",
    "\n",
    "// 2) Collect relationships and text chunks\n",
    "WITH collect(DISTINCT chunk) AS chunks, \n",
    "  collect(DISTINCT rel) AS rels\n",
    "\n",
    "// 3) Format and return context\n",
    "RETURN '=== text ===\\n' + apoc.text.join([c in chunks | c.text], '\\n---\\n') + '\\n\\n=== kg_rels ===\\n' +\n",
    "  apoc.text.join([r in rels | startNode(r).name + ' - ' + type(r) + '(' + coalesce(r.details, '') + ')' +  ' -> ' + endNode(r).name ], '\\n---\\n') AS info\n",
    "\"\"\"\n",
    ")\n"
   ]
  },
  {
   "cell_type": "code",
   "execution_count": 36,
   "metadata": {},
   "outputs": [
    {
     "name": "stderr",
     "output_type": "stream",
     "text": [
      "Received notification from DBMS server: {severity: WARNING} {code: Neo.ClientNotification.Statement.UnknownRelationshipTypeWarning} {category: UNRECOGNIZED} {title: The provided relationship type is not in the database.} {description: One of the relationship types in your query is not available in the database, make sure you didn't misspell it or that the label is available when you run this statement in your application (the missing relationship type is: FROM_CHUNK)} {position: line: 4, column: 18, offset: 258} for query: \"CALL db.index.vector.queryNodes($vector_index_name, $top_k * $effective_search_ratio, $query_vector) YIELD node, score WITH node, score LIMIT $top_k \\n        // 1) Go out 2-3 hops in the entity graph and get relationships\\nWITH node AS chunk\\nMATCH (chunk)<-[:FROM_CHUNK]-()-[relList:!FROM_CHUNK]-{1,2}()\\nUNWIND relList AS rel\\n\\n// 2) Collect relationships and text chunks\\nWITH collect(DISTINCT chunk) AS chunks, \\n  collect(DISTINCT rel) AS rels\\n\\n// 3) Format and return context\\nRETURN '=== text ===\\n' + apoc.text.join([c in chunks | c.text], '\\n---\\n') + '\\n\\n=== kg_rels ===\\n' +\\n  apoc.text.join([r in rels | startNode(r).name + ' - ' + type(r) + '(' + coalesce(r.details, '') + ')' +  ' -> ' + endNode(r).name ], '\\n---\\n') AS info\\n\"\n",
      "Received notification from DBMS server: {severity: WARNING} {code: Neo.ClientNotification.Statement.UnknownRelationshipTypeWarning} {category: UNRECOGNIZED} {title: The provided relationship type is not in the database.} {description: One of the relationship types in your query is not available in the database, make sure you didn't misspell it or that the label is available when you run this statement in your application (the missing relationship type is: FROM_CHUNK)} {position: line: 4, column: 43, offset: 283} for query: \"CALL db.index.vector.queryNodes($vector_index_name, $top_k * $effective_search_ratio, $query_vector) YIELD node, score WITH node, score LIMIT $top_k \\n        // 1) Go out 2-3 hops in the entity graph and get relationships\\nWITH node AS chunk\\nMATCH (chunk)<-[:FROM_CHUNK]-()-[relList:!FROM_CHUNK]-{1,2}()\\nUNWIND relList AS rel\\n\\n// 2) Collect relationships and text chunks\\nWITH collect(DISTINCT chunk) AS chunks, \\n  collect(DISTINCT rel) AS rels\\n\\n// 3) Format and return context\\nRETURN '=== text ===\\n' + apoc.text.join([c in chunks | c.text], '\\n---\\n') + '\\n\\n=== kg_rels ===\\n' +\\n  apoc.text.join([r in rels | startNode(r).name + ' - ' + type(r) + '(' + coalesce(r.details, '') + ')' +  ' -> ' + endNode(r).name ], '\\n---\\n') AS info\\n\"\n",
      "Received notification from DBMS server: {severity: WARNING} {code: Neo.ClientNotification.Statement.UnknownPropertyKeyWarning} {category: UNRECOGNIZED} {title: The provided property key is not in the database} {description: One of the property names in your query is not available in the database, make sure you didn't misspell it or that the label is available when you run this statement in your application (the missing property name is: details)} {position: line: 19, column: 86, offset: 659} for query: \"CALL db.index.vector.queryNodes($vector_index_name, $top_k * $effective_search_ratio, $query_vector) YIELD node, score WITH node, score LIMIT $top_k \\n        // 1) Go out 2-3 hops in the entity graph and get relationships\\nWITH node AS chunk\\nMATCH (chunk)<-[:FROM_CHUNK]-()-[relList:!FROM_CHUNK]-{1,2}()\\nUNWIND relList AS rel\\n\\n// 2) Collect relationships and text chunks\\nWITH collect(DISTINCT chunk) AS chunks, \\n  collect(DISTINCT rel) AS rels\\n\\n// 3) Format and return context\\nRETURN '=== text ===\\n' + apoc.text.join([c in chunks | c.text], '\\n---\\n') + '\\n\\n=== kg_rels ===\\n' +\\n  apoc.text.join([r in rels | startNode(r).name + ' - ' + type(r) + '(' + coalesce(r.details, '') + ')' +  ' -> ' + endNode(r).name ], '\\n---\\n') AS info\\n\"\n"
     ]
    }
   ],
   "source": [
    "vc_res = graph_retriever.get_search_results(\n",
    "    query_text=\"When was Voyager 1 launched?\", \n",
    "    top_k=3\n",
    ")\n"
   ]
  },
  {
   "cell_type": "code",
   "execution_count": 37,
   "metadata": {},
   "outputs": [
    {
     "name": "stdout",
     "output_type": "stream",
     "text": [
      "# Text Chunk Context:\n",
      "=== text ===\n",
      "\n",
      "# KG Context From Relationships:\n",
      "\n",
      "\n",
      "=== kg_rels ===\n",
      "\n"
     ]
    }
   ],
   "source": [
    "kg_rel_pos = vc_res.records[0]['info'].find('\\n\\n=== kg_rels ===\\n')\n",
    "\n",
    "\n",
    "print(\"# Text Chunk Context:\")\n",
    "print(vc_res.records[0]['info'][:kg_rel_pos])\n",
    "\n",
    "print(\"# KG Context From Relationships:\")\n",
    "print(vc_res.records[0]['info'][kg_rel_pos:])\n"
   ]
  },
  {
   "cell_type": "code",
   "execution_count": 22,
   "metadata": {},
   "outputs": [
    {
     "ename": "CypherSyntaxError",
     "evalue": "{code: Neo.ClientError.Statement.SyntaxError} {message: Variable length relationships must not use relationship type expressions. (line 4, column 56 (offset: 304))\n\"        MATCH (chunk)<-[:FROM_CHUNK]-(entity)-[relList:!FROM_CHUNK*1..2]-(nb)\"\n                                                        ^}",
     "output_type": "error",
     "traceback": [
      "\u001b[31m---------------------------------------------------------------------------\u001b[39m",
      "\u001b[31mCypherSyntaxError\u001b[39m                         Traceback (most recent call last)",
      "\u001b[36mCell\u001b[39m\u001b[36m \u001b[39m\u001b[32mIn[22]\u001b[39m\u001b[32m, line 51\u001b[39m\n\u001b[32m     44\u001b[39m q = (\n\u001b[32m     45\u001b[39m     \u001b[33m\"\u001b[39m\u001b[33mWhen was Voyager 1 launched?\u001b[39m\u001b[33m\"\u001b[39m\n\u001b[32m     46\u001b[39m     \u001b[33m\"\u001b[39m\u001b[33mInclude the launch date in the answer\u001b[39m\u001b[33m\"\u001b[39m\n\u001b[32m     47\u001b[39m )\n\u001b[32m     49\u001b[39m \u001b[38;5;66;03m# Perform RAG search and get answers\u001b[39;00m\n\u001b[32m     50\u001b[39m \u001b[38;5;66;03m# vector_rag.search(q, retriever_config={'top_k': 5}).answer\u001b[39;00m\n\u001b[32m---> \u001b[39m\u001b[32m51\u001b[39m \u001b[43mgraph_rag\u001b[49m\u001b[43m.\u001b[49m\u001b[43msearch\u001b[49m\u001b[43m(\u001b[49m\u001b[43mq\u001b[49m\u001b[43m,\u001b[49m\u001b[43m \u001b[49m\u001b[43mretriever_config\u001b[49m\u001b[43m=\u001b[49m\u001b[43m{\u001b[49m\u001b[33;43m'\u001b[39;49m\u001b[33;43mtop_k\u001b[39;49m\u001b[33;43m'\u001b[39;49m\u001b[43m:\u001b[49m\u001b[43m \u001b[49m\u001b[32;43m5\u001b[39;49m\u001b[43m}\u001b[49m\u001b[43m)\u001b[49m.answer\n",
      "\u001b[36mFile \u001b[39m\u001b[32m/opt/anaconda3/envs/avesha-v2/lib/python3.12/site-packages/neo4j_graphrag/generation/graphrag.py:138\u001b[39m, in \u001b[36mGraphRAG.search\u001b[39m\u001b[34m(self, query_text, message_history, examples, retriever_config, return_context, response_fallback)\u001b[39m\n\u001b[32m    136\u001b[39m     message_history = message_history.messages\n\u001b[32m    137\u001b[39m query = \u001b[38;5;28mself\u001b[39m._build_query(validated_data.query_text, message_history)\n\u001b[32m--> \u001b[39m\u001b[32m138\u001b[39m retriever_result: RetrieverResult = \u001b[38;5;28;43mself\u001b[39;49m\u001b[43m.\u001b[49m\u001b[43mretriever\u001b[49m\u001b[43m.\u001b[49m\u001b[43msearch\u001b[49m\u001b[43m(\u001b[49m\n\u001b[32m    139\u001b[39m \u001b[43m    \u001b[49m\u001b[43mquery_text\u001b[49m\u001b[43m=\u001b[49m\u001b[43mquery\u001b[49m\u001b[43m,\u001b[49m\u001b[43m \u001b[49m\u001b[43m*\u001b[49m\u001b[43m*\u001b[49m\u001b[43mvalidated_data\u001b[49m\u001b[43m.\u001b[49m\u001b[43mretriever_config\u001b[49m\n\u001b[32m    140\u001b[39m \u001b[43m\u001b[49m\u001b[43m)\u001b[49m\n\u001b[32m    141\u001b[39m \u001b[38;5;28;01mif\u001b[39;00m \u001b[38;5;28mlen\u001b[39m(retriever_result.items) == \u001b[32m0\u001b[39m \u001b[38;5;129;01mand\u001b[39;00m response_fallback \u001b[38;5;129;01mis\u001b[39;00m \u001b[38;5;129;01mnot\u001b[39;00m \u001b[38;5;28;01mNone\u001b[39;00m:\n\u001b[32m    142\u001b[39m     answer = response_fallback\n",
      "\u001b[36mFile \u001b[39m\u001b[32m/opt/anaconda3/envs/avesha-v2/lib/python3.12/site-packages/neo4j_graphrag/retrievers/base.py:136\u001b[39m, in \u001b[36mRetriever.search\u001b[39m\u001b[34m(self, *args, **kwargs)\u001b[39m\n\u001b[32m    131\u001b[39m \u001b[38;5;28;01mdef\u001b[39;00m\u001b[38;5;250m \u001b[39m\u001b[34msearch\u001b[39m(\u001b[38;5;28mself\u001b[39m, *args: Any, **kwargs: Any) -> RetrieverResult:\n\u001b[32m    132\u001b[39m \u001b[38;5;250m    \u001b[39m\u001b[33;03m\"\"\"Search method. Call the `get_search_results` method that returns\u001b[39;00m\n\u001b[32m    133\u001b[39m \u001b[33;03m    a list of `neo4j.Record`, and format them using the function returned by\u001b[39;00m\n\u001b[32m    134\u001b[39m \u001b[33;03m    `get_result_formatter` to return `RetrieverResult`.\u001b[39;00m\n\u001b[32m    135\u001b[39m \u001b[33;03m    \"\"\"\u001b[39;00m\n\u001b[32m--> \u001b[39m\u001b[32m136\u001b[39m     raw_result = \u001b[38;5;28;43mself\u001b[39;49m\u001b[43m.\u001b[49m\u001b[43mget_search_results\u001b[49m\u001b[43m(\u001b[49m\u001b[43m*\u001b[49m\u001b[43margs\u001b[49m\u001b[43m,\u001b[49m\u001b[43m \u001b[49m\u001b[43m*\u001b[49m\u001b[43m*\u001b[49m\u001b[43mkwargs\u001b[49m\u001b[43m)\u001b[49m\n\u001b[32m    137\u001b[39m     formatter = \u001b[38;5;28mself\u001b[39m.get_result_formatter()\n\u001b[32m    138\u001b[39m     search_items = [formatter(record) \u001b[38;5;28;01mfor\u001b[39;00m record \u001b[38;5;129;01min\u001b[39;00m raw_result.records]\n",
      "\u001b[36mFile \u001b[39m\u001b[32m/opt/anaconda3/envs/avesha-v2/lib/python3.12/site-packages/neo4j_graphrag/retrievers/vector.py:383\u001b[39m, in \u001b[36mVectorCypherRetriever.get_search_results\u001b[39m\u001b[34m(self, query_vector, query_text, top_k, effective_search_ratio, query_params, filters)\u001b[39m\n\u001b[32m    378\u001b[39m logger.debug(\n\u001b[32m    379\u001b[39m     \u001b[33m\"\u001b[39m\u001b[33mVectorCypherRetriever Cypher parameters: \u001b[39m\u001b[38;5;132;01m%s\u001b[39;00m\u001b[33m\"\u001b[39m, prettify(parameters)\n\u001b[32m    380\u001b[39m )\n\u001b[32m    381\u001b[39m logger.debug(\u001b[33m\"\u001b[39m\u001b[33mVectorCypherRetriever Cypher query: \u001b[39m\u001b[38;5;132;01m%s\u001b[39;00m\u001b[33m\"\u001b[39m, search_query)\n\u001b[32m--> \u001b[39m\u001b[32m383\u001b[39m records, _, _ = \u001b[38;5;28;43mself\u001b[39;49m\u001b[43m.\u001b[49m\u001b[43mdriver\u001b[49m\u001b[43m.\u001b[49m\u001b[43mexecute_query\u001b[49m\u001b[43m(\u001b[49m\n\u001b[32m    384\u001b[39m \u001b[43m    \u001b[49m\u001b[43msearch_query\u001b[49m\u001b[43m,\u001b[49m\n\u001b[32m    385\u001b[39m \u001b[43m    \u001b[49m\u001b[43mparameters\u001b[49m\u001b[43m,\u001b[49m\n\u001b[32m    386\u001b[39m \u001b[43m    \u001b[49m\u001b[43mdatabase_\u001b[49m\u001b[43m=\u001b[49m\u001b[38;5;28;43mself\u001b[39;49m\u001b[43m.\u001b[49m\u001b[43mneo4j_database\u001b[49m\u001b[43m,\u001b[49m\n\u001b[32m    387\u001b[39m \u001b[43m    \u001b[49m\u001b[43mrouting_\u001b[49m\u001b[43m=\u001b[49m\u001b[43mneo4j\u001b[49m\u001b[43m.\u001b[49m\u001b[43mRoutingControl\u001b[49m\u001b[43m.\u001b[49m\u001b[43mREAD\u001b[49m\u001b[43m,\u001b[49m\n\u001b[32m    388\u001b[39m \u001b[43m\u001b[49m\u001b[43m)\u001b[49m\n\u001b[32m    389\u001b[39m \u001b[38;5;28;01mreturn\u001b[39;00m RawSearchResult(\n\u001b[32m    390\u001b[39m     records=records,\n\u001b[32m    391\u001b[39m     metadata={\u001b[33m\"\u001b[39m\u001b[33mquery_vector\u001b[39m\u001b[33m\"\u001b[39m: query_vector},\n\u001b[32m    392\u001b[39m )\n",
      "\u001b[36mFile \u001b[39m\u001b[32m/opt/anaconda3/envs/avesha-v2/lib/python3.12/site-packages/neo4j/_sync/driver.py:978\u001b[39m, in \u001b[36mDriver.execute_query\u001b[39m\u001b[34m(self, query_, parameters_, routing_, database_, impersonated_user_, bookmark_manager_, auth_, result_transformer_, **kwargs)\u001b[39m\n\u001b[32m    974\u001b[39m     \u001b[38;5;28;01mraise\u001b[39;00m \u001b[38;5;167;01mValueError\u001b[39;00m(\n\u001b[32m    975\u001b[39m         \u001b[33mf\u001b[39m\u001b[33m\"\u001b[39m\u001b[33mInvalid routing control value: \u001b[39m\u001b[38;5;132;01m{\u001b[39;00mrouting_\u001b[38;5;132;01m!r}\u001b[39;00m\u001b[33m\"\u001b[39m\n\u001b[32m    976\u001b[39m     )\n\u001b[32m    977\u001b[39m \u001b[38;5;28;01mwith\u001b[39;00m session._pipelined_begin:\n\u001b[32m--> \u001b[39m\u001b[32m978\u001b[39m     \u001b[38;5;28;01mreturn\u001b[39;00m \u001b[43msession\u001b[49m\u001b[43m.\u001b[49m\u001b[43m_run_transaction\u001b[49m\u001b[43m(\u001b[49m\n\u001b[32m    979\u001b[39m \u001b[43m        \u001b[49m\u001b[43maccess_mode\u001b[49m\u001b[43m,\u001b[49m\n\u001b[32m    980\u001b[39m \u001b[43m        \u001b[49m\u001b[43mTelemetryAPI\u001b[49m\u001b[43m.\u001b[49m\u001b[43mDRIVER\u001b[49m\u001b[43m,\u001b[49m\n\u001b[32m    981\u001b[39m \u001b[43m        \u001b[49m\u001b[43mwork\u001b[49m\u001b[43m,\u001b[49m\n\u001b[32m    982\u001b[39m \u001b[43m        \u001b[49m\u001b[43m(\u001b[49m\u001b[43mquery_str\u001b[49m\u001b[43m,\u001b[49m\u001b[43m \u001b[49m\u001b[43mparameters\u001b[49m\u001b[43m,\u001b[49m\u001b[43m \u001b[49m\u001b[43mresult_transformer_\u001b[49m\u001b[43m)\u001b[49m\u001b[43m,\u001b[49m\n\u001b[32m    983\u001b[39m \u001b[43m        \u001b[49m\u001b[43m{\u001b[49m\u001b[43m}\u001b[49m\u001b[43m,\u001b[49m\n\u001b[32m    984\u001b[39m \u001b[43m    \u001b[49m\u001b[43m)\u001b[49m\n",
      "\u001b[36mFile \u001b[39m\u001b[32m/opt/anaconda3/envs/avesha-v2/lib/python3.12/site-packages/neo4j/_sync/work/session.py:588\u001b[39m, in \u001b[36mSession._run_transaction\u001b[39m\u001b[34m(self, access_mode, api, transaction_function, args, kwargs)\u001b[39m\n\u001b[32m    586\u001b[39m tx = \u001b[38;5;28mself\u001b[39m._transaction\n\u001b[32m    587\u001b[39m \u001b[38;5;28;01mtry\u001b[39;00m:\n\u001b[32m--> \u001b[39m\u001b[32m588\u001b[39m     result = \u001b[43mtransaction_function\u001b[49m\u001b[43m(\u001b[49m\u001b[43mtx\u001b[49m\u001b[43m,\u001b[49m\u001b[43m \u001b[49m\u001b[43m*\u001b[49m\u001b[43margs\u001b[49m\u001b[43m,\u001b[49m\u001b[43m \u001b[49m\u001b[43m*\u001b[49m\u001b[43m*\u001b[49m\u001b[43mkwargs\u001b[49m\u001b[43m)\u001b[49m\n\u001b[32m    589\u001b[39m \u001b[38;5;28;01mexcept\u001b[39;00m asyncio.CancelledError:\n\u001b[32m    590\u001b[39m     \u001b[38;5;66;03m# if cancellation callback has not been called yet:\u001b[39;00m\n\u001b[32m    591\u001b[39m     \u001b[38;5;28;01mif\u001b[39;00m \u001b[38;5;28mself\u001b[39m._transaction \u001b[38;5;129;01mis\u001b[39;00m \u001b[38;5;129;01mnot\u001b[39;00m \u001b[38;5;28;01mNone\u001b[39;00m:\n",
      "\u001b[36mFile \u001b[39m\u001b[32m/opt/anaconda3/envs/avesha-v2/lib/python3.12/site-packages/neo4j/_sync/driver.py:1314\u001b[39m, in \u001b[36m_work\u001b[39m\u001b[34m(tx, query, parameters, transformer)\u001b[39m\n\u001b[32m   1308\u001b[39m \u001b[38;5;28;01mdef\u001b[39;00m\u001b[38;5;250m \u001b[39m\u001b[34m_work\u001b[39m(\n\u001b[32m   1309\u001b[39m     tx: ManagedTransaction,\n\u001b[32m   1310\u001b[39m     query: te.LiteralString,\n\u001b[32m   1311\u001b[39m     parameters: \u001b[38;5;28mdict\u001b[39m[\u001b[38;5;28mstr\u001b[39m, t.Any],\n\u001b[32m   1312\u001b[39m     transformer: t.Callable[[Result], t.Union[_T]],\n\u001b[32m   1313\u001b[39m ) -> _T:\n\u001b[32m-> \u001b[39m\u001b[32m1314\u001b[39m     res = \u001b[43mtx\u001b[49m\u001b[43m.\u001b[49m\u001b[43mrun\u001b[49m\u001b[43m(\u001b[49m\u001b[43mquery\u001b[49m\u001b[43m,\u001b[49m\u001b[43m \u001b[49m\u001b[43mparameters\u001b[49m\u001b[43m)\u001b[49m\n\u001b[32m   1315\u001b[39m     \u001b[38;5;28;01mreturn\u001b[39;00m transformer(res)\n",
      "\u001b[36mFile \u001b[39m\u001b[32m/opt/anaconda3/envs/avesha-v2/lib/python3.12/site-packages/neo4j/_sync/work/transaction.py:206\u001b[39m, in \u001b[36mTransactionBase.run\u001b[39m\u001b[34m(self, query, parameters, **kwparameters)\u001b[39m\n\u001b[32m    203\u001b[39m \u001b[38;5;28mself\u001b[39m._results.append(result)\n\u001b[32m    205\u001b[39m parameters = \u001b[38;5;28mdict\u001b[39m(parameters \u001b[38;5;129;01mor\u001b[39;00m {}, **kwparameters)\n\u001b[32m--> \u001b[39m\u001b[32m206\u001b[39m \u001b[43mresult\u001b[49m\u001b[43m.\u001b[49m\u001b[43m_tx_ready_run\u001b[49m\u001b[43m(\u001b[49m\u001b[43mquery\u001b[49m\u001b[43m,\u001b[49m\u001b[43m \u001b[49m\u001b[43mparameters\u001b[49m\u001b[43m)\u001b[49m\n\u001b[32m    208\u001b[39m \u001b[38;5;28;01mreturn\u001b[39;00m result\n",
      "\u001b[36mFile \u001b[39m\u001b[32m/opt/anaconda3/envs/avesha-v2/lib/python3.12/site-packages/neo4j/_sync/work/result.py:177\u001b[39m, in \u001b[36mResult._tx_ready_run\u001b[39m\u001b[34m(self, query, parameters)\u001b[39m\n\u001b[32m    173\u001b[39m \u001b[38;5;28;01mdef\u001b[39;00m\u001b[38;5;250m \u001b[39m\u001b[34m_tx_ready_run\u001b[39m(\u001b[38;5;28mself\u001b[39m, query, parameters):\n\u001b[32m    174\u001b[39m     \u001b[38;5;66;03m# BEGIN+RUN does not carry any extra on the RUN message.\u001b[39;00m\n\u001b[32m    175\u001b[39m     \u001b[38;5;66;03m# BEGIN {extra}\u001b[39;00m\n\u001b[32m    176\u001b[39m     \u001b[38;5;66;03m# RUN \"query\" {parameters} {extra}\u001b[39;00m\n\u001b[32m--> \u001b[39m\u001b[32m177\u001b[39m     \u001b[38;5;28;43mself\u001b[39;49m\u001b[43m.\u001b[49m\u001b[43m_run\u001b[49m\u001b[43m(\u001b[49m\u001b[43mquery\u001b[49m\u001b[43m,\u001b[49m\u001b[43m \u001b[49m\u001b[43mparameters\u001b[49m\u001b[43m,\u001b[49m\u001b[43m \u001b[49m\u001b[38;5;28;43;01mNone\u001b[39;49;00m\u001b[43m,\u001b[49m\u001b[43m \u001b[49m\u001b[38;5;28;43;01mNone\u001b[39;49;00m\u001b[43m,\u001b[49m\u001b[43m \u001b[49m\u001b[38;5;28;43;01mNone\u001b[39;49;00m\u001b[43m,\u001b[49m\u001b[43m \u001b[49m\u001b[38;5;28;43;01mNone\u001b[39;49;00m\u001b[43m,\u001b[49m\u001b[43m \u001b[49m\u001b[38;5;28;43;01mNone\u001b[39;49;00m\u001b[43m,\u001b[49m\u001b[43m \u001b[49m\u001b[38;5;28;43;01mNone\u001b[39;49;00m\u001b[43m)\u001b[49m\n",
      "\u001b[36mFile \u001b[39m\u001b[32m/opt/anaconda3/envs/avesha-v2/lib/python3.12/site-packages/neo4j/_sync/work/result.py:236\u001b[39m, in \u001b[36mResult._run\u001b[39m\u001b[34m(self, query, parameters, db, imp_user, access_mode, bookmarks, notifications_min_severity, notifications_disabled_classifications)\u001b[39m\n\u001b[32m    234\u001b[39m \u001b[38;5;28mself\u001b[39m._pull()\n\u001b[32m    235\u001b[39m \u001b[38;5;28mself\u001b[39m._connection.send_all()\n\u001b[32m--> \u001b[39m\u001b[32m236\u001b[39m \u001b[38;5;28;43mself\u001b[39;49m\u001b[43m.\u001b[49m\u001b[43m_attach\u001b[49m\u001b[43m(\u001b[49m\u001b[43m)\u001b[49m\n",
      "\u001b[36mFile \u001b[39m\u001b[32m/opt/anaconda3/envs/avesha-v2/lib/python3.12/site-packages/neo4j/_sync/work/result.py:430\u001b[39m, in \u001b[36mResult._attach\u001b[39m\u001b[34m(self)\u001b[39m\n\u001b[32m    428\u001b[39m \u001b[38;5;28;01mif\u001b[39;00m \u001b[38;5;28mself\u001b[39m._exhausted \u001b[38;5;129;01mis\u001b[39;00m \u001b[38;5;28;01mFalse\u001b[39;00m:\n\u001b[32m    429\u001b[39m     \u001b[38;5;28;01mwhile\u001b[39;00m \u001b[38;5;28mself\u001b[39m._attached \u001b[38;5;129;01mis\u001b[39;00m \u001b[38;5;28;01mFalse\u001b[39;00m:\n\u001b[32m--> \u001b[39m\u001b[32m430\u001b[39m         \u001b[38;5;28;43mself\u001b[39;49m\u001b[43m.\u001b[49m\u001b[43m_connection\u001b[49m\u001b[43m.\u001b[49m\u001b[43mfetch_message\u001b[49m\u001b[43m(\u001b[49m\u001b[43m)\u001b[49m\n",
      "\u001b[36mFile \u001b[39m\u001b[32m/opt/anaconda3/envs/avesha-v2/lib/python3.12/site-packages/neo4j/_sync/io/_common.py:193\u001b[39m, in \u001b[36mConnectionErrorHandler.__getattr__.<locals>.outer.<locals>.inner\u001b[39m\u001b[34m(*args, **kwargs)\u001b[39m\n\u001b[32m    191\u001b[39m \u001b[38;5;28;01mdef\u001b[39;00m\u001b[38;5;250m \u001b[39m\u001b[34minner\u001b[39m(*args, **kwargs):\n\u001b[32m    192\u001b[39m     \u001b[38;5;28;01mtry\u001b[39;00m:\n\u001b[32m--> \u001b[39m\u001b[32m193\u001b[39m         \u001b[43mfunc\u001b[49m\u001b[43m(\u001b[49m\u001b[43m*\u001b[49m\u001b[43margs\u001b[49m\u001b[43m,\u001b[49m\u001b[43m \u001b[49m\u001b[43m*\u001b[49m\u001b[43m*\u001b[49m\u001b[43mkwargs\u001b[49m\u001b[43m)\u001b[49m\n\u001b[32m    194\u001b[39m     \u001b[38;5;28;01mexcept\u001b[39;00m (Neo4jError, ServiceUnavailable, SessionExpired) \u001b[38;5;28;01mas\u001b[39;00m exc:\n\u001b[32m    195\u001b[39m         \u001b[38;5;28;01massert\u001b[39;00m \u001b[38;5;129;01mnot\u001b[39;00m asyncio.iscoroutinefunction(\u001b[38;5;28mself\u001b[39m.__on_error)\n",
      "\u001b[36mFile \u001b[39m\u001b[32m/opt/anaconda3/envs/avesha-v2/lib/python3.12/site-packages/neo4j/_sync/io/_bolt.py:863\u001b[39m, in \u001b[36mBolt.fetch_message\u001b[39m\u001b[34m(self)\u001b[39m\n\u001b[32m    859\u001b[39m \u001b[38;5;66;03m# Receive exactly one message\u001b[39;00m\n\u001b[32m    860\u001b[39m tag, fields = \u001b[38;5;28mself\u001b[39m.inbox.pop(\n\u001b[32m    861\u001b[39m     hydration_hooks=\u001b[38;5;28mself\u001b[39m.responses[\u001b[32m0\u001b[39m].hydration_hooks\n\u001b[32m    862\u001b[39m )\n\u001b[32m--> \u001b[39m\u001b[32m863\u001b[39m res = \u001b[38;5;28;43mself\u001b[39;49m\u001b[43m.\u001b[49m\u001b[43m_process_message\u001b[49m\u001b[43m(\u001b[49m\u001b[43mtag\u001b[49m\u001b[43m,\u001b[49m\u001b[43m \u001b[49m\u001b[43mfields\u001b[49m\u001b[43m)\u001b[49m\n\u001b[32m    864\u001b[39m \u001b[38;5;28mself\u001b[39m.idle_since = monotonic()\n\u001b[32m    865\u001b[39m \u001b[38;5;28;01mreturn\u001b[39;00m res\n",
      "\u001b[36mFile \u001b[39m\u001b[32m/opt/anaconda3/envs/avesha-v2/lib/python3.12/site-packages/neo4j/_sync/io/_bolt5.py:500\u001b[39m, in \u001b[36mBolt5x0._process_message\u001b[39m\u001b[34m(self, tag, fields)\u001b[39m\n\u001b[32m    498\u001b[39m \u001b[38;5;28mself\u001b[39m._server_state_manager.state = \u001b[38;5;28mself\u001b[39m.bolt_states.FAILED\n\u001b[32m    499\u001b[39m \u001b[38;5;28;01mtry\u001b[39;00m:\n\u001b[32m--> \u001b[39m\u001b[32m500\u001b[39m     \u001b[43mresponse\u001b[49m\u001b[43m.\u001b[49m\u001b[43mon_failure\u001b[49m\u001b[43m(\u001b[49m\u001b[43msummary_metadata\u001b[49m\u001b[43m \u001b[49m\u001b[38;5;129;43;01mor\u001b[39;49;00m\u001b[43m \u001b[49m\u001b[43m{\u001b[49m\u001b[43m}\u001b[49m\u001b[43m)\u001b[49m\n\u001b[32m    501\u001b[39m \u001b[38;5;28;01mexcept\u001b[39;00m (ServiceUnavailable, DatabaseUnavailable):\n\u001b[32m    502\u001b[39m     \u001b[38;5;28;01mif\u001b[39;00m \u001b[38;5;28mself\u001b[39m.pool:\n",
      "\u001b[36mFile \u001b[39m\u001b[32m/opt/anaconda3/envs/avesha-v2/lib/python3.12/site-packages/neo4j/_sync/io/_common.py:263\u001b[39m, in \u001b[36mResponse.on_failure\u001b[39m\u001b[34m(self, metadata)\u001b[39m\n\u001b[32m    261\u001b[39m handler = \u001b[38;5;28mself\u001b[39m.handlers.get(\u001b[33m\"\u001b[39m\u001b[33mon_summary\u001b[39m\u001b[33m\"\u001b[39m)\n\u001b[32m    262\u001b[39m Util.callback(handler)\n\u001b[32m--> \u001b[39m\u001b[32m263\u001b[39m \u001b[38;5;28;01mraise\u001b[39;00m \u001b[38;5;28mself\u001b[39m._hydrate_error(metadata)\n",
      "\u001b[31mCypherSyntaxError\u001b[39m: {code: Neo.ClientError.Statement.SyntaxError} {message: Variable length relationships must not use relationship type expressions. (line 4, column 56 (offset: 304))\n\"        MATCH (chunk)<-[:FROM_CHUNK]-(entity)-[relList:!FROM_CHUNK*1..2]-(nb)\"\n                                                        ^}"
     ]
    }
   ],
   "source": [
    "# Initialize LLM\n",
    "from neo4j_graphrag.generation import RagTemplate\n",
    "from neo4j_graphrag.generation.graphrag import GraphRAG\n",
    "\n",
    "\n",
    "\n",
    "llm = OpenAILLM(\n",
    "    model_name=\"gpt-4o\",\n",
    "    model_params={\"temperature\": 0.0}\n",
    ")\n",
    "\n",
    "# Define RAG prompt template\n",
    "rag_template = RagTemplate(\n",
    "    template='''\n",
    "        Answer the Question using the following Context. \n",
    "        Only respond with information mentioned in the Context. \n",
    "        Do not inject any speculative information not mentioned.\n",
    "\n",
    "        # Question:\n",
    "        {query_text}\n",
    "\n",
    "        # Context:\n",
    "        {context}\n",
    "\n",
    "        # Answer:\n",
    "    ''',\n",
    "    expected_inputs=['query_text', 'context']\n",
    ")\n",
    "\n",
    "# # Create Vector and Graph RAG pipelines\n",
    "# vector_rag = GraphRAG(\n",
    "#     llm=llm,\n",
    "#     retriever=vector_retriever,\n",
    "#     prompt_template=rag_template\n",
    "# )\n",
    "\n",
    "graph_rag = GraphRAG(\n",
    "    llm=llm,\n",
    "    retriever=graph_retriever,\n",
    "    prompt_template=rag_template\n",
    ")\n",
    "\n",
    "# Define question\n",
    "q = (\n",
    "    \"When was Voyager 1 launched?\"\n",
    "    \"Include the launch date in the answer\"\n",
    ")\n",
    "\n",
    "# Perform RAG search and get answers\n",
    "# vector_rag.search(q, retriever_config={'top_k': 5}).answer\n",
    "graph_rag.search(q, retriever_config={'top_k': 5}).answer\n"
   ]
  },
  {
   "cell_type": "code",
   "execution_count": null,
   "metadata": {},
   "outputs": [],
   "source": []
  },
  {
   "cell_type": "code",
   "execution_count": null,
   "metadata": {},
   "outputs": [],
   "source": []
  }
 ],
 "metadata": {
  "kernelspec": {
   "display_name": "avesha-v2",
   "language": "python",
   "name": "python3"
  },
  "language_info": {
   "codemirror_mode": {
    "name": "ipython",
    "version": 3
   },
   "file_extension": ".py",
   "mimetype": "text/x-python",
   "name": "python",
   "nbconvert_exporter": "python",
   "pygments_lexer": "ipython3",
   "version": "3.12.11"
  }
 },
 "nbformat": 4,
 "nbformat_minor": 2
}
